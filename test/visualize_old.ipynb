{
 "cells": [
  {
   "cell_type": "code",
   "execution_count": 2,
   "metadata": {},
   "outputs": [
    {
     "name": "stderr",
     "output_type": "stream",
     "text": [
      "2024-01-26 09:29:32.067109: I tensorflow/core/platform/cpu_feature_guard.cc:193] This TensorFlow binary is optimized with oneAPI Deep Neural Network Library (oneDNN) to use the following CPU instructions in performance-critical operations:  AVX2 FMA\n",
      "To enable them in other operations, rebuild TensorFlow with the appropriate compiler flags.\n",
      "2024-01-26 09:29:32.242636: E tensorflow/stream_executor/cuda/cuda_blas.cc:2981] Unable to register cuBLAS factory: Attempting to register factory for plugin cuBLAS when one has already been registered\n",
      "2024-01-26 09:29:32.755484: W tensorflow/stream_executor/platform/default/dso_loader.cc:64] Could not load dynamic library 'libnvinfer.so.7'; dlerror: libnvinfer.so.7: cannot open shared object file: No such file or directory\n",
      "2024-01-26 09:29:32.755575: W tensorflow/stream_executor/platform/default/dso_loader.cc:64] Could not load dynamic library 'libnvinfer_plugin.so.7'; dlerror: libnvinfer_plugin.so.7: cannot open shared object file: No such file or directory\n",
      "2024-01-26 09:29:32.755581: W tensorflow/compiler/tf2tensorrt/utils/py_utils.cc:38] TF-TRT Warning: Cannot dlopen some TensorRT libraries. If you would like to use Nvidia GPU with TensorRT, please make sure the missing libraries mentioned above are installed properly.\n",
      "/home/highgarden/miniconda3/envs/DD_py38/lib/python3.8/site-packages/requests/__init__.py:102: RequestsDependencyWarning: urllib3 (1.26.7) or chardet (5.1.0)/charset_normalizer (2.0.4) doesn't match a supported version!\n",
      "  warnings.warn(\"urllib3 ({}) or chardet ({})/charset_normalizer ({}) doesn't match a supported \"\n"
     ]
    }
   ],
   "source": [
    "from xbbbNN import visualize_pockets, get_xb_bb_positions, get_network_features, small_network_evaluation, head_on_network_evaluation, get_best_orientations, get_bb_head_on_model_features, get_bb_side_on_model_features"
   ]
  },
  {
   "cell_type": "code",
   "execution_count": 3,
   "metadata": {},
   "outputs": [],
   "source": [
    "from xbbbNN import get_bb_head_on_features_from_molecule, get_bb_side_on_features_from_molecule"
   ]
  },
  {
   "cell_type": "code",
   "execution_count": 4,
   "metadata": {},
   "outputs": [],
   "source": [
    "import numpy as np"
   ]
  },
  {
   "cell_type": "code",
   "execution_count": 5,
   "metadata": {},
   "outputs": [],
   "source": [
    "from xbpy import rdutil"
   ]
  },
  {
   "cell_type": "code",
   "execution_count": 6,
   "metadata": {},
   "outputs": [],
   "source": [
    "model_system = next(rdutil.read_molecules(\"./structure_files/test_conformation.pdb\"))"
   ]
  },
  {
   "cell_type": "code",
   "execution_count": 7,
   "metadata": {},
   "outputs": [],
   "source": [
    "acceptor_atom = [atom for atom in model_system.GetAtoms() if atom.GetSymbol() == \"O\"][0]\n",
    "halogen_atom = [atom for atom in model_system.GetAtoms() if atom.GetSymbol() in [\"Cl\", \"Br\", \"I\"]][0]\n",
    "carbon_atom = [atom for atom in halogen_atom.GetNeighbors() if atom.GetSymbol() == \"C\"][0]"
   ]
  },
  {
   "cell_type": "code",
   "execution_count": 8,
   "metadata": {},
   "outputs": [],
   "source": [
    "box_range = np.array([5.0]*3)\n",
    "step_width = 0.5\n",
    "def get_grid():\n",
    "    bb_min, bb_max = - box_range, + box_range\n",
    "    grid = np.mgrid[bb_min[0]:bb_max[0]:step_width, bb_min[1]:bb_max[1]:step_width, bb_min[2]:bb_max[2]:step_width]\n",
    "    grid = grid.reshape(3, -1).T\n",
    "    return grid"
   ]
  },
  {
   "cell_type": "code",
   "execution_count": 9,
   "metadata": {},
   "outputs": [],
   "source": [
    "test_grid = np.array([[-1,-1,-1], [1,1,1]])"
   ]
  },
  {
   "cell_type": "code",
   "execution_count": 10,
   "metadata": {},
   "outputs": [],
   "source": [
    "multi_features = get_bb_head_on_features_from_molecule(model_system, get_grid())\n",
    "side_on_multi_features = get_bb_side_on_features_from_molecule(model_system, get_grid(), just_closest=True)"
   ]
  },
  {
   "cell_type": "code",
   "execution_count": 11,
   "metadata": {},
   "outputs": [
    {
     "data": {
      "text/plain": [
       "(array([ 1.75712291,  0.        , -0.9429922 ,  0.78135265,  0.94795662,\n",
       "         0.93464928,  0.        ,  0.        ,  1.        ]),\n",
       " array([0.75712291, 0.        , 0.        , 0.        , 0.        ,\n",
       "        0.        , 0.        , 0.        , 0.94795662, 0.96926151,\n",
       "        0.93464928, 0.9858401 , 0.95199286, 0.83555463, 0.98614661,\n",
       "        0.8009382 , 0.        , 0.        , 1.        ]))"
      ]
     },
     "execution_count": 11,
     "metadata": {},
     "output_type": "execute_result"
    }
   ],
   "source": [
    "acceptor_positions = get_xb_bb_positions(acceptor_atom)\n",
    "head_on_input, side_on_input = get_network_features(halogen_atom.GetSymbol(), rdutil.position(halogen_atom) + test_grid[0], rdutil.position(carbon_atom) + test_grid[0], acceptor_positions)\n",
    "head_on_input, side_on_input"
   ]
  },
  {
   "cell_type": "code",
   "execution_count": 12,
   "metadata": {},
   "outputs": [],
   "source": [
    "from rdkit import Chem"
   ]
  },
  {
   "cell_type": "code",
   "execution_count": 13,
   "metadata": {},
   "outputs": [
    {
     "data": {
      "text/plain": [
       "(array([ 0.        ,  0.        , -0.97326019,  0.9692713 ,  0.96959988,\n",
       "         0.99139629,  0.        ,  0.        ,  1.        ]),\n",
       " array([0.        , 0.        , 0.        , 0.        , 0.        ,\n",
       "        0.        , 0.        , 0.        , 0.96959988, 0.97824933,\n",
       "        0.99139629, 0.95001369, 0.99375382, 0.97507138, 0.90763223,\n",
       "        0.94601219, 0.        , 0.        , 1.        ]))"
      ]
     },
     "execution_count": 13,
     "metadata": {},
     "output_type": "execute_result"
    }
   ],
   "source": [
    "\n",
    "head_on_input, side_on_input = get_network_features(halogen_atom.GetSymbol(), rdutil.position(halogen_atom) + test_grid[1], rdutil.position(carbon_atom) + test_grid[1], acceptor_positions)\n",
    "head_on_input, side_on_input"
   ]
  },
  {
   "cell_type": "code",
   "execution_count": 14,
   "metadata": {},
   "outputs": [
    {
     "data": {
      "text/plain": [
       "array([[0., 0., 0., ..., 0., 0., 1.],\n",
       "       [0., 0., 0., ..., 0., 0., 1.],\n",
       "       [0., 0., 0., ..., 0., 0., 1.],\n",
       "       ...,\n",
       "       [0., 0., 0., ..., 0., 0., 1.],\n",
       "       [0., 0., 0., ..., 0., 0., 1.],\n",
       "       [0., 0., 0., ..., 0., 0., 1.]])"
      ]
     },
     "execution_count": 14,
     "metadata": {},
     "output_type": "execute_result"
    }
   ],
   "source": [
    "side_on_multi_features"
   ]
  },
  {
   "cell_type": "code",
   "execution_count": 15,
   "metadata": {},
   "outputs": [
    {
     "data": {
      "text/plain": [
       "0.9114032766354452"
      ]
     },
     "execution_count": 15,
     "metadata": {},
     "output_type": "execute_result"
    }
   ],
   "source": [
    "np.cos(np.deg2rad(180 - 155.7))"
   ]
  },
  {
   "cell_type": "code",
   "execution_count": 16,
   "metadata": {},
   "outputs": [],
   "source": [
    "model_path = \"/home/highgarden/Workspace/Thesis/XB_BB_Docking_Score/Data/Neural_Network/Weights/2,2,2-4,1-f2-it1\""
   ]
  },
  {
   "cell_type": "code",
   "execution_count": 17,
   "metadata": {},
   "outputs": [],
   "source": [
    "import pymolviz as pmv\n",
    "import numpy as np"
   ]
  },
  {
   "cell_type": "code",
   "execution_count": 18,
   "metadata": {},
   "outputs": [
    {
     "name": "stderr",
     "output_type": "stream",
     "text": [
      "2024-01-26 09:29:37.058437: I tensorflow/stream_executor/cuda/cuda_gpu_executor.cc:966] could not open file to read NUMA node: /sys/bus/pci/devices/0000:2b:00.0/numa_node\n",
      "Your kernel may have been built without NUMA support.\n",
      "2024-01-26 09:29:37.075381: I tensorflow/stream_executor/cuda/cuda_gpu_executor.cc:966] could not open file to read NUMA node: /sys/bus/pci/devices/0000:2b:00.0/numa_node\n",
      "Your kernel may have been built without NUMA support.\n",
      "2024-01-26 09:29:37.075599: I tensorflow/stream_executor/cuda/cuda_gpu_executor.cc:966] could not open file to read NUMA node: /sys/bus/pci/devices/0000:2b:00.0/numa_node\n",
      "Your kernel may have been built without NUMA support.\n"
     ]
    }
   ],
   "source": [
    "import tensorflow as tf\n",
    "import xbbbNN\n",
    "tf.config.set_visible_devices([], 'GPU')\n",
    "visible_devices = tf.config.get_visible_devices()\n",
    "for device in visible_devices:\n",
    "    assert device.device_type != 'GPU'"
   ]
  },
  {
   "cell_type": "code",
   "execution_count": 19,
   "metadata": {},
   "outputs": [
    {
     "name": "stdout",
     "output_type": "stream",
     "text": [
      "WARNING:tensorflow:Unable to restore custom metric. Please ensure that the layer implements `get_config` and `from_config` when saving. In addition, please use the `custom_objects` arg when calling `load_model()`.\n",
      "WARNING:tensorflow:Unable to restore custom metric. Please ensure that the layer implements `get_config` and `from_config` when saving. In addition, please use the `custom_objects` arg when calling `load_model()`.\n",
      "WARNING:tensorflow:Unable to restore custom metric. Please ensure that the layer implements `get_config` and `from_config` when saving. In addition, please use the `custom_objects` arg when calling `load_model()`.\n",
      "WARNING:tensorflow:Unable to restore custom metric. Please ensure that the layer implements `get_config` and `from_config` when saving. In addition, please use the `custom_objects` arg when calling `load_model()`.\n",
      "WARNING:tensorflow:Unable to restore custom metric. Please ensure that the layer implements `get_config` and `from_config` when saving. In addition, please use the `custom_objects` arg when calling `load_model()`.\n",
      "WARNING:tensorflow:Unable to restore custom metric. Please ensure that the layer implements `get_config` and `from_config` when saving. In addition, please use the `custom_objects` arg when calling `load_model()`.\n",
      "WARNING:tensorflow:Unable to restore custom metric. Please ensure that the layer implements `get_config` and `from_config` when saving. In addition, please use the `custom_objects` arg when calling `load_model()`.\n",
      "WARNING:tensorflow:Unable to restore custom metric. Please ensure that the layer implements `get_config` and `from_config` when saving. In addition, please use the `custom_objects` arg when calling `load_model()`.\n",
      "WARNING:tensorflow:Unable to restore custom metric. Please ensure that the layer implements `get_config` and `from_config` when saving. In addition, please use the `custom_objects` arg when calling `load_model()`.\n",
      "WARNING:tensorflow:Unable to restore custom metric. Please ensure that the layer implements `get_config` and `from_config` when saving. In addition, please use the `custom_objects` arg when calling `load_model()`.\n",
      "WARNING:tensorflow:Unable to restore custom metric. Please ensure that the layer implements `get_config` and `from_config` when saving. In addition, please use the `custom_objects` arg when calling `load_model()`.\n",
      "WARNING:tensorflow:Unable to restore custom metric. Please ensure that the layer implements `get_config` and `from_config` when saving. In addition, please use the `custom_objects` arg when calling `load_model()`.\n",
      "WARNING:tensorflow:Unable to restore custom metric. Please ensure that the layer implements `get_config` and `from_config` when saving. In addition, please use the `custom_objects` arg when calling `load_model()`.\n",
      "WARNING:tensorflow:Unable to restore custom metric. Please ensure that the layer implements `get_config` and `from_config` when saving. In addition, please use the `custom_objects` arg when calling `load_model()`.\n"
     ]
    },
    {
     "name": "stderr",
     "output_type": "stream",
     "text": [
      "2024-01-26 09:29:37.296907: I tensorflow/core/platform/cpu_feature_guard.cc:193] This TensorFlow binary is optimized with oneAPI Deep Neural Network Library (oneDNN) to use the following CPU instructions in performance-critical operations:  AVX2 FMA\n",
      "To enable them in other operations, rebuild TensorFlow with the appropriate compiler flags.\n"
     ]
    }
   ],
   "source": [
    "model = tf.keras.models.load_model(model_path, compile=False)"
   ]
  },
  {
   "cell_type": "code",
   "execution_count": 20,
   "metadata": {},
   "outputs": [],
   "source": [
    "from xbpy import rdutil"
   ]
  },
  {
   "cell_type": "code",
   "execution_count": 21,
   "metadata": {},
   "outputs": [
    {
     "data": {
      "text/plain": [
       "(9, 8000)"
      ]
     },
     "execution_count": 21,
     "metadata": {},
     "output_type": "execute_result"
    }
   ],
   "source": [
    "multi_features.T.shape"
   ]
  },
  {
   "cell_type": "code",
   "execution_count": 22,
   "metadata": {},
   "outputs": [],
   "source": [
    "prediction = model.predict([np.zeros((8000, 114)), np.zeros((8000, 1)), np.zeros((8000, 19)), multi_features], verbose=0)"
   ]
  },
  {
   "cell_type": "code",
   "execution_count": 23,
   "metadata": {},
   "outputs": [],
   "source": [
    "head_on_prediction = prediction[:, 2]"
   ]
  },
  {
   "cell_type": "code",
   "execution_count": 24,
   "metadata": {},
   "outputs": [
    {
     "data": {
      "text/plain": [
       "array([[ 1.228, -4.999, -4.998],\n",
       "       [ 1.228, -4.999, -4.498],\n",
       "       [ 1.228, -4.999, -3.998],\n",
       "       ...,\n",
       "       [10.728,  4.501,  3.502],\n",
       "       [10.728,  4.501,  4.002],\n",
       "       [10.728,  4.501,  4.502]])"
      ]
     },
     "execution_count": 24,
     "metadata": {},
     "output_type": "execute_result"
    }
   ],
   "source": [
    "get_grid() + rdutil.position(halogen_atom)"
   ]
  },
  {
   "cell_type": "code",
   "execution_count": 25,
   "metadata": {},
   "outputs": [
    {
     "name": "stderr",
     "output_type": "stream",
     "text": [
      "WARNING:root:No name provided for GridData. Using default name: GridData_0. It is highly recommended to provide meaningful names.\n"
     ]
    }
   ],
   "source": [
    "import pymolviz as pmv\n",
    "grid_data = pmv.GridData(head_on_prediction, get_grid() + rdutil.position(halogen_atom))\n",
    "pmv.Volume(grid_data, name = \"Head_on_prediction\").write(\"head_on_prediction.py\")"
   ]
  },
  {
   "cell_type": "code",
   "execution_count": 26,
   "metadata": {},
   "outputs": [],
   "source": [
    "def direct_network_application(halogen_position, orientation, acceptor_atoms, halogen_symbol, bond_distance):\n",
    "    head_on_predictions = [0.0]\n",
    "    side_on_predictions = [0.0]\n",
    "    for acceptor_atom in acceptor_atoms:\n",
    "            try:\n",
    "                acceptor_positions = get_xb_bb_positions(acceptor_atom)\n",
    "            except IndexError:\n",
    "                continue\n",
    "            carbon_position = halogen_position - (orientation * bond_distance)\n",
    "            head_on_input, side_on_input = get_network_features(halogen_symbol, halogen_position, carbon_position, acceptor_positions)\n",
    "            prediction = model.predict([np.zeros((1, 114)), np.zeros((1, 1)), side_on_input.reshape(1, 19), head_on_input.reshape(1, 9)], verbose=0)\n",
    "            side_on_predictions.append(prediction[0][1])\n",
    "            head_on_predictions.append(prediction[0][2])\n",
    "    return np.max(head_on_predictions)\n",
    "            "
   ]
  },
  {
   "cell_type": "code",
   "execution_count": 27,
   "metadata": {},
   "outputs": [],
   "source": [
    "pocket = rdutil.get_binding_pockets_by_ligand(next(rdutil.read_molecules(\"5nkd.pdb\", proximityBonding=True)))[0]"
   ]
  },
  {
   "cell_type": "code",
   "execution_count": 28,
   "metadata": {},
   "outputs": [],
   "source": [
    "all_detected = []\n",
    "for oxygen in pocket.pocket_atoms:\n",
    "    if not oxygen.GetSymbol() == \"O\":\n",
    "        continue\n",
    "    try:\n",
    "        positions = get_xb_bb_positions(oxygen)\n",
    "        #print(oxygen.GetIdx())\n",
    "        all_detected.append(pmv.Points(positions, color = [\"O\", \"C\", \"C\", \"H\", \"N\", \"H\", \"C\", \"H\"], name = f\"O{oxygen.GetIdx()}\"))\n",
    "    except:\n",
    "        continue\n",
    "\n",
    "pmv.Group(all_detected, name = \"detected_acceptors\").write(\"detected_acceptors.py\")"
   ]
  },
  {
   "cell_type": "code",
   "execution_count": 29,
   "metadata": {},
   "outputs": [
    {
     "ename": "TypeError",
     "evalue": "'generator' object is not subscriptable",
     "output_type": "error",
     "traceback": [
      "\u001b[0;31m---------------------------------------------------------------------------\u001b[0m",
      "\u001b[0;31mTypeError\u001b[0m                                 Traceback (most recent call last)",
      "\u001b[0;32m/tmp/ipykernel_5118/4115449623.py\u001b[0m in \u001b[0;36m<module>\u001b[0;34m\u001b[0m\n\u001b[0;32m----> 1\u001b[0;31m \u001b[0mbackbone_system\u001b[0m \u001b[0;34m=\u001b[0m \u001b[0mrdutil\u001b[0m\u001b[0;34m.\u001b[0m\u001b[0mread_molecules\u001b[0m\u001b[0;34m(\u001b[0m\u001b[0;34m\"backbone.pdb\"\u001b[0m\u001b[0;34m,\u001b[0m \u001b[0mproximityBonding\u001b[0m\u001b[0;34m=\u001b[0m\u001b[0;32mTrue\u001b[0m\u001b[0;34m)\u001b[0m\u001b[0;34m[\u001b[0m\u001b[0;36m0\u001b[0m\u001b[0;34m]\u001b[0m\u001b[0;34m\u001b[0m\u001b[0;34m\u001b[0m\u001b[0m\n\u001b[0m",
      "\u001b[0;31mTypeError\u001b[0m: 'generator' object is not subscriptable"
     ]
    }
   ],
   "source": [
    "backbone_system = rdutil.read_molecules(\"backbone.pdb\", proximityBonding=True)[0]"
   ]
  },
  {
   "cell_type": "code",
   "execution_count": 30,
   "metadata": {},
   "outputs": [
    {
     "ename": "NameError",
     "evalue": "name 'backbone_system' is not defined",
     "output_type": "error",
     "traceback": [
      "\u001b[0;31m---------------------------------------------------------------------------\u001b[0m",
      "\u001b[0;31mNameError\u001b[0m                                 Traceback (most recent call last)",
      "\u001b[0;32m/tmp/ipykernel_5118/202426639.py\u001b[0m in \u001b[0;36m<module>\u001b[0;34m\u001b[0m\n\u001b[0;32m----> 1\u001b[0;31m \u001b[0mbackbone_center\u001b[0m \u001b[0;34m=\u001b[0m \u001b[0mrdutil\u001b[0m\u001b[0;34m.\u001b[0m\u001b[0mposition\u001b[0m\u001b[0;34m(\u001b[0m\u001b[0mlist\u001b[0m\u001b[0;34m(\u001b[0m\u001b[0mbackbone_system\u001b[0m\u001b[0;34m.\u001b[0m\u001b[0mGetAtoms\u001b[0m\u001b[0;34m(\u001b[0m\u001b[0;34m)\u001b[0m\u001b[0;34m)\u001b[0m\u001b[0;34m)\u001b[0m\u001b[0;34m.\u001b[0m\u001b[0mmean\u001b[0m\u001b[0;34m(\u001b[0m\u001b[0maxis\u001b[0m \u001b[0;34m=\u001b[0m \u001b[0;36m0\u001b[0m\u001b[0;34m)\u001b[0m\u001b[0;34m\u001b[0m\u001b[0;34m\u001b[0m\u001b[0m\n\u001b[0m\u001b[1;32m      2\u001b[0m \u001b[0mbackbone_center\u001b[0m\u001b[0;34m\u001b[0m\u001b[0;34m\u001b[0m\u001b[0m\n",
      "\u001b[0;31mNameError\u001b[0m: name 'backbone_system' is not defined"
     ]
    }
   ],
   "source": [
    "backbone_center = rdutil.position(list(backbone_system.GetAtoms())).mean(axis = 0)\n",
    "backbone_center"
   ]
  },
  {
   "cell_type": "code",
   "execution_count": null,
   "metadata": {},
   "outputs": [
    {
     "name": "stderr",
     "output_type": "stream",
     "text": [
      "100%|██████████| 32768/32768 [00:51<00:00, 638.48it/s] \n"
     ]
    },
    {
     "name": "stdout",
     "output_type": "stream",
     "text": [
      "(7230, 3) (7230, 3) (7230, 3)\n"
     ]
    }
   ],
   "source": [
    "grid = [(x, y, z) for x in np.arange(-8, 8, .5) for y in np.arange(-8, 8, .5) for z in np.arange(-8, 8, .5)]\n",
    "grid = np.array(grid)\n",
    "#grid = grid[np.linalg.norm(grid, axis = 1) > 2]\n",
    "\n",
    "grid = np.array(grid) + backbone_center\n",
    "arrows, best_scores = get_best_orientations(grid, head_on_network_evaluation, \"Cl\", 1.7, [a for a in backbone_system.GetAtoms() if a.GetSymbol() == \"O\"])\n",
    "labels = {}\n",
    "acceptor_positions = get_xb_bb_positions([a for a in backbone_system.GetAtoms() if a.GetSymbol() == \"O\"][0])\n",
    "for arrow  in arrows:\n",
    "    orientation = (arrow[1] - arrow[0]) * 3.4\n",
    "    features, _ = get_network_features(\"Cl\", arrow[1], arrow[1] - orientation, acceptor_positions)\n",
    "    for i, feature in enumerate(features):\n",
    "        if not i in labels:\n",
    "            labels[i] = []\n",
    "        labels[i].append(f\"{feature:.2f}\")\n",
    "arrows = np.array(arrows); best_scores = np.array(best_scores)\n",
    "label_names = [\"XO\", \"XN\", \"Acc_O\", \"Acc_N\", \"X_O\", \"X_N\", \"Cl\", \"Br\", \"I\"]\n",
    "for key in labels:\n",
    "    labels[key] = pmv.Labels(arrows[:, 1], np.array(labels[key]), name = f\"labels_{label_names[key]}\")\n",
    "pseudo_atoms = pmv.PseudoAtoms(arrows[:,0], best_scores, name=f\"BB_PseudoAtoms\")\n",
    "arrows = pmv.Arrows(arrows, color = best_scores, name = f\"BB_Arrows\", linewidth=0.05, head_length=0.6)    \n",
    "pmv.Group([arrows, arrows.colormap], name = f\"BB_Group_faulty\").write(\"backbone_system_faulty.py\")"
   ]
  },
  {
   "cell_type": "code",
   "execution_count": null,
   "metadata": {},
   "outputs": [],
   "source": [
    "test_coords =[ 6.158642,  -2.8019161, -0.8649455]\n",
    "from xbpy import geometry\n",
    "cone = geometry.sample_cone(np.array([ 0, 0, 1]), 1, np.pi, 0.5)\n",
    "scores = head_on_network_evaluation(test_coords, cone, [a for a in backbone_system.GetAtoms() if a.GetSymbol() == \"O\"], \"Cl\", 1.7)\n",
    "pmv.Points(-cone + test_coords, color = scores.flatten(), name = \"cone\").write(\"cone.py\")\n"
   ]
  },
  {
   "cell_type": "code",
   "execution_count": null,
   "metadata": {},
   "outputs": [],
   "source": [
    "test_coords =[ 6.158642,  -2.8019161, -0.8649455]\n",
    "from xbpy import geometry\n",
    "best_direction = cone[np.argmin(scores)]; best_direction /= np.linalg.norm(best_direction)\n",
    "cone = geometry.sample_cone(best_direction, 1, np.pi/8, 0.1)\n",
    "scores = head_on_network_evaluation(test_coords, cone, [a for a in backbone_system.GetAtoms() if a.GetSymbol() == \"O\"], \"Cl\", 1.7)\n",
    "pmv.Points(-cone + test_coords, color = scores.flatten(), name = \"cone_tightened\").write(\"cone_tightened.py\")\n",
    "\n"
   ]
  },
  {
   "cell_type": "code",
   "execution_count": null,
   "metadata": {},
   "outputs": [
    {
     "data": {
      "text/plain": [
       "array([ 0.75086239, -0.6147601 , -0.24140357])"
      ]
     },
     "execution_count": 15,
     "metadata": {},
     "output_type": "execute_result"
    }
   ],
   "source": [
    "cone[np.argmin(scores)]"
   ]
  },
  {
   "cell_type": "code",
   "execution_count": null,
   "metadata": {},
   "outputs": [],
   "source": [
    "scores.shape\n",
    "cone = geometry.sample_cone([1, 0, 0], 1, np.pi/8, 0.1)\n",
    "pmv.Points(cone, color = \"red\", name = \"cone_test\").write(\"cone_test.py\")\n"
   ]
  },
  {
   "cell_type": "code",
   "execution_count": null,
   "metadata": {},
   "outputs": [
    {
     "name": "stderr",
     "output_type": "stream",
     "text": [
      "100%|██████████| 1720/1720 [01:40<00:00, 17.15it/s]\n"
     ]
    },
    {
     "name": "stdout",
     "output_type": "stream",
     "text": [
      "(170, 3) (170, 3) (170, 3)\n"
     ]
    }
   ],
   "source": [
    "\n",
    "#visualize(direct_network_application, \"5nkd.pdb\").write(\"direct_head_on_test.py\")\n",
    "visualize_pockets(head_on_network_evaluation, \"5nkd.pdb\").write(\"head_on_test_faulty.py\")"
   ]
  },
  {
   "cell_type": "code",
   "execution_count": null,
   "metadata": {},
   "outputs": [],
   "source": []
  }
 ],
 "metadata": {
  "kernelspec": {
   "display_name": "DD_py38",
   "language": "python",
   "name": "python3"
  },
  "language_info": {
   "codemirror_mode": {
    "name": "ipython",
    "version": 3
   },
   "file_extension": ".py",
   "mimetype": "text/x-python",
   "name": "python",
   "nbconvert_exporter": "python",
   "pygments_lexer": "ipython3",
   "version": "3.8.12"
  }
 },
 "nbformat": 4,
 "nbformat_minor": 2
}
