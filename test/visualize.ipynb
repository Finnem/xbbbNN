{
 "cells": [
  {
   "cell_type": "code",
   "execution_count": 1,
   "metadata": {},
   "outputs": [
    {
     "name": "stderr",
     "output_type": "stream",
     "text": [
      "2024-01-26 16:46:23.158275: I tensorflow/core/platform/cpu_feature_guard.cc:193] This TensorFlow binary is optimized with oneAPI Deep Neural Network Library (oneDNN) to use the following CPU instructions in performance-critical operations:  AVX2 FMA\n",
      "To enable them in other operations, rebuild TensorFlow with the appropriate compiler flags.\n",
      "2024-01-26 16:46:23.269170: E tensorflow/stream_executor/cuda/cuda_blas.cc:2981] Unable to register cuBLAS factory: Attempting to register factory for plugin cuBLAS when one has already been registered\n",
      "2024-01-26 16:46:23.694579: W tensorflow/stream_executor/platform/default/dso_loader.cc:64] Could not load dynamic library 'libnvinfer.so.7'; dlerror: libnvinfer.so.7: cannot open shared object file: No such file or directory\n",
      "2024-01-26 16:46:23.694637: W tensorflow/stream_executor/platform/default/dso_loader.cc:64] Could not load dynamic library 'libnvinfer_plugin.so.7'; dlerror: libnvinfer_plugin.so.7: cannot open shared object file: No such file or directory\n",
      "2024-01-26 16:46:23.694642: W tensorflow/compiler/tf2tensorrt/utils/py_utils.cc:38] TF-TRT Warning: Cannot dlopen some TensorRT libraries. If you would like to use Nvidia GPU with TensorRT, please make sure the missing libraries mentioned above are installed properly.\n",
      "/home/highgarden/miniconda3/envs/DD_py38/lib/python3.8/site-packages/requests/__init__.py:102: RequestsDependencyWarning: urllib3 (1.26.7) or chardet (5.1.0)/charset_normalizer (2.0.4) doesn't match a supported version!\n",
      "  warnings.warn(\"urllib3 ({}) or chardet ({})/charset_normalizer ({}) doesn't match a supported \"\n",
      "2024-01-26 16:46:24.831905: I tensorflow/stream_executor/cuda/cuda_gpu_executor.cc:966] could not open file to read NUMA node: /sys/bus/pci/devices/0000:2b:00.0/numa_node\n",
      "Your kernel may have been built without NUMA support.\n",
      "2024-01-26 16:46:24.838427: I tensorflow/stream_executor/cuda/cuda_gpu_executor.cc:966] could not open file to read NUMA node: /sys/bus/pci/devices/0000:2b:00.0/numa_node\n",
      "Your kernel may have been built without NUMA support.\n",
      "2024-01-26 16:46:24.838625: I tensorflow/stream_executor/cuda/cuda_gpu_executor.cc:966] could not open file to read NUMA node: /sys/bus/pci/devices/0000:2b:00.0/numa_node\n",
      "Your kernel may have been built without NUMA support.\n"
     ]
    }
   ],
   "source": [
    "from xbbbNN import visualize_pockets, get_xb_bb_positions, get_network_features, small_network_evaluation, head_on_network_evaluation, get_best_orientations, get_bb_head_on_model_features, get_bb_side_on_model_features\n",
    "from xbpy import rdutil\n",
    "from xbbbNN import get_bb_head_on_features_from_molecule, get_bb_side_on_features_from_molecule\n",
    "import numpy as np\n",
    "import pymolviz as pmv\n",
    "import tensorflow as tf\n",
    "from matplotlib import pyplot as plt\n",
    "import xbbbNN\n",
    "tf.config.set_visible_devices([], 'GPU')\n",
    "visible_devices = tf.config.get_visible_devices()\n",
    "for device in visible_devices:\n",
    "    assert device.device_type != 'GPU'"
   ]
  },
  {
   "cell_type": "code",
   "execution_count": 2,
   "metadata": {},
   "outputs": [],
   "source": [
    "model_system = next(rdutil.read_molecules(\"./structure_files/test_conformation.pdb\"))"
   ]
  },
  {
   "cell_type": "code",
   "execution_count": 3,
   "metadata": {},
   "outputs": [],
   "source": [
    "acceptor_atom = [atom for atom in model_system.GetAtoms() if atom.GetSymbol() == \"O\"][0]\n",
    "halogen_atom = [atom for atom in model_system.GetAtoms() if atom.GetSymbol() in [\"Cl\", \"Br\", \"I\"]][0]\n",
    "carbon_atom = [atom for atom in halogen_atom.GetNeighbors() if atom.GetSymbol() == \"C\"][0]"
   ]
  },
  {
   "cell_type": "code",
   "execution_count": 4,
   "metadata": {},
   "outputs": [],
   "source": [
    "box_range = np.array([5.0]*3)\n",
    "step_width = 0.5\n",
    "def get_grid():\n",
    "    bb_min, bb_max = - box_range, + box_range\n",
    "    grid = np.mgrid[bb_min[0]:bb_max[0]:step_width, bb_min[1]:bb_max[1]:step_width, bb_min[2]:bb_max[2]:step_width]\n",
    "    grid = grid.reshape(3, -1).T\n",
    "    return grid"
   ]
  },
  {
   "cell_type": "code",
   "execution_count": 5,
   "metadata": {},
   "outputs": [],
   "source": [
    "multi_features = get_bb_head_on_features_from_molecule(model_system, get_grid())\n",
    "side_on_multi_features = get_bb_side_on_features_from_molecule(model_system, get_grid(), just_closest=True)"
   ]
  },
  {
   "cell_type": "code",
   "execution_count": 6,
   "metadata": {},
   "outputs": [],
   "source": [
    "model_path = \"/home/highgarden/Workspace/Thesis/XB_BB_Docking_Score/Data/Neural_Network/Weights/2,2,2-4,1-f2-it1\""
   ]
  },
  {
   "cell_type": "code",
   "execution_count": 7,
   "metadata": {},
   "outputs": [
    {
     "name": "stdout",
     "output_type": "stream",
     "text": [
      "WARNING:tensorflow:Unable to restore custom metric. Please ensure that the layer implements `get_config` and `from_config` when saving. In addition, please use the `custom_objects` arg when calling `load_model()`.\n",
      "WARNING:tensorflow:Unable to restore custom metric. Please ensure that the layer implements `get_config` and `from_config` when saving. In addition, please use the `custom_objects` arg when calling `load_model()`.\n",
      "WARNING:tensorflow:Unable to restore custom metric. Please ensure that the layer implements `get_config` and `from_config` when saving. In addition, please use the `custom_objects` arg when calling `load_model()`.\n",
      "WARNING:tensorflow:Unable to restore custom metric. Please ensure that the layer implements `get_config` and `from_config` when saving. In addition, please use the `custom_objects` arg when calling `load_model()`.\n",
      "WARNING:tensorflow:Unable to restore custom metric. Please ensure that the layer implements `get_config` and `from_config` when saving. In addition, please use the `custom_objects` arg when calling `load_model()`.\n",
      "WARNING:tensorflow:Unable to restore custom metric. Please ensure that the layer implements `get_config` and `from_config` when saving. In addition, please use the `custom_objects` arg when calling `load_model()`.\n",
      "WARNING:tensorflow:Unable to restore custom metric. Please ensure that the layer implements `get_config` and `from_config` when saving. In addition, please use the `custom_objects` arg when calling `load_model()`.\n",
      "WARNING:tensorflow:Unable to restore custom metric. Please ensure that the layer implements `get_config` and `from_config` when saving. In addition, please use the `custom_objects` arg when calling `load_model()`.\n",
      "WARNING:tensorflow:Unable to restore custom metric. Please ensure that the layer implements `get_config` and `from_config` when saving. In addition, please use the `custom_objects` arg when calling `load_model()`.\n",
      "WARNING:tensorflow:Unable to restore custom metric. Please ensure that the layer implements `get_config` and `from_config` when saving. In addition, please use the `custom_objects` arg when calling `load_model()`.\n",
      "WARNING:tensorflow:Unable to restore custom metric. Please ensure that the layer implements `get_config` and `from_config` when saving. In addition, please use the `custom_objects` arg when calling `load_model()`.\n",
      "WARNING:tensorflow:Unable to restore custom metric. Please ensure that the layer implements `get_config` and `from_config` when saving. In addition, please use the `custom_objects` arg when calling `load_model()`.\n",
      "WARNING:tensorflow:Unable to restore custom metric. Please ensure that the layer implements `get_config` and `from_config` when saving. In addition, please use the `custom_objects` arg when calling `load_model()`.\n",
      "WARNING:tensorflow:Unable to restore custom metric. Please ensure that the layer implements `get_config` and `from_config` when saving. In addition, please use the `custom_objects` arg when calling `load_model()`.\n"
     ]
    },
    {
     "name": "stderr",
     "output_type": "stream",
     "text": [
      "2024-01-26 16:46:25.809850: I tensorflow/core/platform/cpu_feature_guard.cc:193] This TensorFlow binary is optimized with oneAPI Deep Neural Network Library (oneDNN) to use the following CPU instructions in performance-critical operations:  AVX2 FMA\n",
      "To enable them in other operations, rebuild TensorFlow with the appropriate compiler flags.\n"
     ]
    }
   ],
   "source": [
    "model = tf.keras.models.load_model(model_path, compile=False)"
   ]
  },
  {
   "cell_type": "code",
   "execution_count": null,
   "metadata": {},
   "outputs": [],
   "source": []
  },
  {
   "cell_type": "code",
   "execution_count": 8,
   "metadata": {},
   "outputs": [
    {
     "data": {
      "text/plain": [
       "(9, 8000)"
      ]
     },
     "execution_count": 8,
     "metadata": {},
     "output_type": "execute_result"
    }
   ],
   "source": [
    "multi_features.T.shape"
   ]
  },
  {
   "cell_type": "code",
   "execution_count": 9,
   "metadata": {},
   "outputs": [],
   "source": [
    "prediction = model.predict([np.zeros((8000, 114)), np.zeros((8000, 1)), side_on_multi_features, multi_features], verbose=0)"
   ]
  },
  {
   "cell_type": "code",
   "execution_count": 10,
   "metadata": {},
   "outputs": [],
   "source": [
    "head_on_prediction = prediction[:, 2]"
   ]
  },
  {
   "cell_type": "code",
   "execution_count": 11,
   "metadata": {},
   "outputs": [],
   "source": [
    "side_on_prediction = prediction[:, 1]"
   ]
  },
  {
   "cell_type": "code",
   "execution_count": 12,
   "metadata": {},
   "outputs": [],
   "source": [
    "import pymolviz as pmv\n",
    "grid_data = pmv.GridData(head_on_prediction, get_grid() + rdutil.position(halogen_atom), name=\"Head_on_prediction_grid\")\n",
    "grid_data_side_on = pmv.GridData(side_on_prediction, get_grid() + rdutil.position(halogen_atom), name=\"Side_on_prediction_grid\")\n",
    "head_on_volume = pmv.Volume(grid_data, name = \"Head_on_prediction\")\n",
    "side_on_volume = pmv.Volume(grid_data_side_on, name = \"Side_on_prediction\")\n",
    "pmv.Group([\n",
    "    head_on_volume,\n",
    "    side_on_volume,\n",
    "    side_on_volume.colormap,\n",
    "    grid_data,\n",
    "    grid_data_side_on,\n",
    "], name = \"Predictions\").write(\"predictions.py\")"
   ]
  },
  {
   "cell_type": "code",
   "execution_count": null,
   "metadata": {},
   "outputs": [],
   "source": []
  },
  {
   "cell_type": "code",
   "execution_count": 13,
   "metadata": {},
   "outputs": [],
   "source": [
    "from xbbbNN import get_best_bb_head_on_orientations"
   ]
  },
  {
   "cell_type": "code",
   "execution_count": 14,
   "metadata": {},
   "outputs": [
    {
     "name": "stdout",
     "output_type": "stream",
     "text": [
      "(1217, 3) (1217, 3) (1217, 3)\n"
     ]
    },
    {
     "data": {
      "text/plain": [
       "[<matplotlib.lines.Line2D at 0x7ff2ce04f400>]"
      ]
     },
     "execution_count": 14,
     "metadata": {},
     "output_type": "execute_result"
    },
    {
     "data": {
      "image/png": "[encoded data removed]",
      "text/plain": [
       "<Figure size 432x288 with 1 Axes>"
      ]
     },
     "metadata": {
      "needs_background": "light"
     },
     "output_type": "display_data"
    }
   ],
   "source": [
    "grid = [(x, y, z) for x in np.arange(-8, 8, .5) for y in np.arange(-8, 8, .5) for z in np.arange(-8, 8, .5)]\n",
    "grid = np.array(grid)\n",
    "positions, neighbor_positions, values = get_best_bb_head_on_orientations([acceptor_atom], grid + rdutil.position(halogen_atom),\"I\", 1.7, lambda x: np.nan_to_num(model.predict([np.zeros((x.shape[0], 114)), np.zeros((x.shape[0], 1)), np.zeros((x.shape[0], 19)), x], verbose=0)[:, 2]))\n",
    "filter = values < -0.1\n",
    "arrows = pmv.Arrows(np.hstack([neighbor_positions[filter], positions[filter]]), values[filter], name=\"Head_on_prediction_arrows\")\n",
    "pmv.Group([arrows, arrows.colormap], name=\"model_system_head_on_arrows\").write(\"model_system_head_on_arrows.py\")\n",
    "plt.plot(values)"
   ]
  },
  {
   "cell_type": "code",
   "execution_count": 19,
   "metadata": {},
   "outputs": [
    {
     "name": "stdout",
     "output_type": "stream",
     "text": [
      "(29, 3) (29, 3) (29, 3)\n"
     ]
    },
    {
     "data": {
      "text/plain": [
       "[<matplotlib.lines.Line2D at 0x7ff2ce324670>]"
      ]
     },
     "execution_count": 19,
     "metadata": {},
     "output_type": "execute_result"
    },
    {
     "data": {
      "image/png": "[encoded data removed]",
      "text/plain": [
       "<Figure size 432x288 with 1 Axes>"
      ]
     },
     "metadata": {
      "needs_background": "light"
     },
     "output_type": "display_data"
    }
   ],
   "source": [
    "protein = next(rdutil.read_molecules(\"5nkd.pdb\", proximityBonding=True))\n",
    "pocket = rdutil.get_binding_pockets_by_ligand(protein)[0]\n",
    "acceptor_atoms = [a for a in pocket.pocket_atoms if (a.GetPDBResidueInfo().GetName().strip() == \"O\") and (len(a.GetNeighbors()) == 1)]\n",
    "positions, neighbor_positions, values = get_best_bb_head_on_orientations(acceptor_atoms, pocket.get_accessible_points(1),\"Cl\", 1.7, lambda x: np.nan_to_num(model.predict([np.zeros((x.shape[0], 114)), np.zeros((x.shape[0], 1)), np.zeros((x.shape[0], 19)), x], verbose=0)[:, 2]))\n",
    "filter = values < -0.15\n",
    "arrows = pmv.Arrows(np.hstack([neighbor_positions[filter], positions[filter]]), values[filter], name=\"Head_on_prediction_arrows\", linewidth=.1)\n",
    "pmv.Group([arrows, arrows.colormap], name=\"test_arrows\").write(\"test_arrows.py\")\n",
    "plt.plot(values)"
   ]
  },
  {
   "cell_type": "code",
   "execution_count": null,
   "metadata": {},
   "outputs": [],
   "source": []
  },
  {
   "cell_type": "code",
   "execution_count": 16,
   "metadata": {},
   "outputs": [],
   "source": [
    "acceptor_positions = rdutil.position(acceptor_atoms)\n",
    "test_positions = pmv.Points(acceptor_positions, name=\"Acceptor atoms\",color=\"green\").write(\"acceptor_positions.py\")"
   ]
  },
  {
   "cell_type": "code",
   "execution_count": 17,
   "metadata": {},
   "outputs": [
    {
     "name": "stderr",
     "output_type": "stream",
     "text": [
      "WARNING:root:No name provided for Points. Using default name: Points_0. It is highly recommended to provide meaningful names.\n"
     ]
    }
   ],
   "source": [
    "pmv.Points(positions).write(\"test_positions.py\")"
   ]
  },
  {
   "cell_type": "code",
   "execution_count": 18,
   "metadata": {},
   "outputs": [
    {
     "ename": "NameError",
     "evalue": "name 'backbone_center' is not defined",
     "output_type": "error",
     "traceback": [
      "\u001b[0;31m---------------------------------------------------------------------------\u001b[0m",
      "\u001b[0;31mNameError\u001b[0m                                 Traceback (most recent call last)",
      "\u001b[0;32m/tmp/ipykernel_23361/2156403539.py\u001b[0m in \u001b[0;36m<module>\u001b[0;34m\u001b[0m\n\u001b[1;32m      3\u001b[0m \u001b[0;31m#grid = grid[np.linalg.norm(grid, axis = 1) > 2]\u001b[0m\u001b[0;34m\u001b[0m\u001b[0;34m\u001b[0m\u001b[0;34m\u001b[0m\u001b[0m\n\u001b[1;32m      4\u001b[0m \u001b[0;34m\u001b[0m\u001b[0m\n\u001b[0;32m----> 5\u001b[0;31m \u001b[0mgrid\u001b[0m \u001b[0;34m=\u001b[0m \u001b[0mnp\u001b[0m\u001b[0;34m.\u001b[0m\u001b[0marray\u001b[0m\u001b[0;34m(\u001b[0m\u001b[0mgrid\u001b[0m\u001b[0;34m)\u001b[0m \u001b[0;34m+\u001b[0m \u001b[0mbackbone_center\u001b[0m\u001b[0;34m\u001b[0m\u001b[0;34m\u001b[0m\u001b[0m\n\u001b[0m\u001b[1;32m      6\u001b[0m \u001b[0marrows\u001b[0m\u001b[0;34m,\u001b[0m \u001b[0mbest_scores\u001b[0m \u001b[0;34m=\u001b[0m \u001b[0mget_best_orientations\u001b[0m\u001b[0;34m(\u001b[0m\u001b[0mgrid\u001b[0m\u001b[0;34m,\u001b[0m \u001b[0mhead_on_network_evaluation\u001b[0m\u001b[0;34m,\u001b[0m \u001b[0;34m\"Cl\"\u001b[0m\u001b[0;34m,\u001b[0m \u001b[0;36m1.7\u001b[0m\u001b[0;34m,\u001b[0m \u001b[0;34m[\u001b[0m\u001b[0ma\u001b[0m \u001b[0;32mfor\u001b[0m \u001b[0ma\u001b[0m \u001b[0;32min\u001b[0m \u001b[0mbackbone_system\u001b[0m\u001b[0;34m.\u001b[0m\u001b[0mGetAtoms\u001b[0m\u001b[0;34m(\u001b[0m\u001b[0;34m)\u001b[0m \u001b[0;32mif\u001b[0m \u001b[0ma\u001b[0m\u001b[0;34m.\u001b[0m\u001b[0mGetSymbol\u001b[0m\u001b[0;34m(\u001b[0m\u001b[0;34m)\u001b[0m \u001b[0;34m==\u001b[0m \u001b[0;34m\"O\"\u001b[0m\u001b[0;34m]\u001b[0m\u001b[0;34m)\u001b[0m\u001b[0;34m\u001b[0m\u001b[0;34m\u001b[0m\u001b[0m\n",
      "\u001b[0;31mNameError\u001b[0m: name 'backbone_center' is not defined"
     ]
    }
   ],
   "source": [
    "grid = [(x, y, z) for x in np.arange(-8, 8, .5) for y in np.arange(-8, 8, .5) for z in np.arange(-8, 8, .5)]\n",
    "grid = np.array(grid)\n",
    "#grid = grid[np.linalg.norm(grid, axis = 1) > 2]\n",
    "\n",
    "grid = np.array(grid) + backbone_center\n",
    "arrows, best_scores = get_best_orientations(grid, head_on_network_evaluation, \"Cl\", 1.7, [a for a in backbone_system.GetAtoms() if a.GetSymbol() == \"O\"])\n"
   ]
  },
  {
   "cell_type": "code",
   "execution_count": null,
   "metadata": {},
   "outputs": [],
   "source": [
    "test_coords =[ 6.158642,  -2.8019161, -0.8649455]\n",
    "from xbpy import geometry\n",
    "cone = geometry.sample_cone(np.array([ 0, 0, 1]), 1, np.pi, 0.5)\n",
    "scores = head_on_network_evaluation(test_coords, cone, [a for a in backbone_system.GetAtoms() if a.GetSymbol() == \"O\"], \"Cl\", 1.7)\n",
    "pmv.Points(-cone + test_coords, color = scores.flatten(), name = \"cone\").write(\"cone.py\")\n"
   ]
  },
  {
   "cell_type": "code",
   "execution_count": null,
   "metadata": {},
   "outputs": [],
   "source": [
    "test_coords =[ 6.158642,  -2.8019161, -0.8649455]\n",
    "from xbpy import geometry\n",
    "best_direction = cone[np.argmin(scores)]; best_direction /= np.linalg.norm(best_direction)\n",
    "cone = geometry.sample_cone(best_direction, 1, np.pi/8, 0.1)\n",
    "scores = head_on_network_evaluation(test_coords, cone, [a for a in backbone_system.GetAtoms() if a.GetSymbol() == \"O\"], \"Cl\", 1.7)\n",
    "pmv.Points(-cone + test_coords, color = scores.flatten(), name = \"cone_tightened\").write(\"cone_tightened.py\")\n",
    "\n"
   ]
  },
  {
   "cell_type": "code",
   "execution_count": null,
   "metadata": {},
   "outputs": [
    {
     "data": {
      "text/plain": [
       "array([ 0.75086239, -0.6147601 , -0.24140357])"
      ]
     },
     "execution_count": 15,
     "metadata": {},
     "output_type": "execute_result"
    }
   ],
   "source": [
    "cone[np.argmin(scores)]"
   ]
  },
  {
   "cell_type": "code",
   "execution_count": null,
   "metadata": {},
   "outputs": [],
   "source": [
    "scores.shape\n",
    "cone = geometry.sample_cone([1, 0, 0], 1, np.pi/8, 0.1)\n",
    "pmv.Points(cone, color = \"red\", name = \"cone_test\").write(\"cone_test.py\")\n"
   ]
  },
  {
   "cell_type": "code",
   "execution_count": null,
   "metadata": {},
   "outputs": [
    {
     "name": "stderr",
     "output_type": "stream",
     "text": [
      "100%|██████████| 1720/1720 [01:40<00:00, 17.15it/s]\n"
     ]
    },
    {
     "name": "stdout",
     "output_type": "stream",
     "text": [
      "(170, 3) (170, 3) (170, 3)\n"
     ]
    }
   ],
   "source": [
    "\n",
    "#visualize(direct_network_application, \"5nkd.pdb\").write(\"direct_head_on_test.py\")\n",
    "visualize_pockets(head_on_network_evaluation, \"5nkd.pdb\").write(\"head_on_test_faulty.py\")"
   ]
  },
  {
   "cell_type": "code",
   "execution_count": null,
   "metadata": {},
   "outputs": [],
   "source": []
  }
 ],
 "metadata": {
  "kernelspec": {
   "display_name": "DD_py38",
   "language": "python",
   "name": "python3"
  },
  "language_info": {
   "codemirror_mode": {
    "name": "ipython",
    "version": 3
   },
   "file_extension": ".py",
   "mimetype": "text/x-python",
   "name": "python",
   "nbconvert_exporter": "python",
   "pygments_lexer": "ipython3",
   "version": "3.8.12"
  }
 },
 "nbformat": 4,
 "nbformat_minor": 2
}
